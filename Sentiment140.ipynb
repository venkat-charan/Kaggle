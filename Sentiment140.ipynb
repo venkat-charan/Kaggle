{
  "nbformat": 4,
  "nbformat_minor": 0,
  "metadata": {
    "accelerator": "GPU",
    "colab": {
      "name": "NLP Course - Week 3 Exercise Answer.ipynb",
      "provenance": [],
      "toc_visible": true
    },
    "kernelspec": {
      "display_name": "Python 3",
      "name": "python3"
    }
  },
  "cells": [
    {
      "cell_type": "code",
      "metadata": {
        "colab_type": "code",
        "id": "hmA6EzkQJ5jt",
        "colab": {}
      },
      "source": [
        "import json\n",
        "import tensorflow as tf\n",
        "import csv\n",
        "import random\n",
        "import numpy as np\n",
        "\n",
        "from tensorflow.keras.preprocessing.text import Tokenizer\n",
        "from tensorflow.keras.preprocessing.sequence import pad_sequences\n",
        "from tensorflow.keras.utils import to_categorical\n",
        "from tensorflow.keras import regularizers\n",
        "\n",
        "\n",
        "embedding_dim = 100\n",
        "max_length = 16\n",
        "trunc_type='post'\n",
        "padding_type='post'\n",
        "oov_tok = \"<OOV>\"\n",
        "training_size=160000\n",
        "test_portion=.1\n",
        "\n",
        "corpus = []\n"
      ],
      "execution_count": 0,
      "outputs": []
    },
    {
      "cell_type": "code",
      "metadata": {
        "colab_type": "code",
        "id": "bM0l_dORKqE0",
        "outputId": "75d4c673-fbf3-464a-fae6-5b6232da301b",
        "colab": {
          "base_uri": "https://localhost:8080/",
          "height": 201
        }
      },
      "source": [
        "# Note that I cleaned the Stanford dataset to remove LATIN1 encoding to make it easier for Python CSV reader\n",
        "# You can do that yourself with:\n",
        "# iconv -f LATIN1 -t UTF8 training.1600000.processed.noemoticon.csv -o training_cleaned.csv\n",
        "# I then hosted it on my site to make it easier to use in this notebook\n",
        "\n",
        "!wget --no-check-certificate \\\n",
        "    https://storage.googleapis.com/laurencemoroney-blog.appspot.com/training_cleaned.csv \\\n",
        "    -O /tmp/training_cleaned.csv\n",
        "\n",
        "num_sentences = 0\n",
        "\n",
        "with open(\"/tmp/training_cleaned.csv\") as csvfile:\n",
        "    reader = csv.reader(csvfile, delimiter=',')\n",
        "    for row in reader:\n",
        "        list_item=[]\n",
        "        list_item.append(row[5])\n",
        "        this_label=row[0]\n",
        "        if this_label=='0':\n",
        "            list_item.append(0)\n",
        "        else:\n",
        "            list_item.append(1)\n",
        "        num_sentences = num_sentences + 1\n",
        "        corpus.append(list_item)\n"
      ],
      "execution_count": 2,
      "outputs": [
        {
          "output_type": "stream",
          "text": [
            "--2020-04-29 19:34:45--  https://storage.googleapis.com/laurencemoroney-blog.appspot.com/training_cleaned.csv\n",
            "Resolving storage.googleapis.com (storage.googleapis.com)... 172.217.194.128, 2404:6800:4003:c00::80\n",
            "Connecting to storage.googleapis.com (storage.googleapis.com)|172.217.194.128|:443... connected.\n",
            "HTTP request sent, awaiting response... 200 OK\n",
            "Length: 238942690 (228M) [application/octet-stream]\n",
            "Saving to: ‘/tmp/training_cleaned.csv’\n",
            "\n",
            "/tmp/training_clean 100%[===================>] 227.87M  55.6MB/s    in 4.1s    \n",
            "\n",
            "2020-04-29 19:34:49 (55.6 MB/s) - ‘/tmp/training_cleaned.csv’ saved [238942690/238942690]\n",
            "\n"
          ],
          "name": "stdout"
        }
      ]
    },
    {
      "cell_type": "code",
      "metadata": {
        "colab_type": "code",
        "id": "3kxblBUjEUX-",
        "outputId": "0832a08f-7717-4355-d37b-0239f812dcca",
        "colab": {
          "base_uri": "https://localhost:8080/",
          "height": 67
        }
      },
      "source": [
        "print(num_sentences)\n",
        "print(len(corpus))\n",
        "print(corpus[1])\n",
        "\n",
        "# Expected Output:\n",
        "# 1600000\n",
        "# 1600000\n",
        "# [\"is upset that he can't update his Facebook by texting it... and might cry as a result  School today also. Blah!\", 0]"
      ],
      "execution_count": 3,
      "outputs": [
        {
          "output_type": "stream",
          "text": [
            "1600000\n",
            "1600000\n",
            "[\"is upset that he can't update his Facebook by texting it... and might cry as a result  School today also. Blah!\", 0]\n"
          ],
          "name": "stdout"
        }
      ]
    },
    {
      "cell_type": "code",
      "metadata": {
        "colab_type": "code",
        "id": "ohOGz24lsNAD",
        "colab": {}
      },
      "source": [
        "sentences=[]\n",
        "labels=[]\n",
        "random.shuffle(corpus)\n",
        "for x in range(training_size):\n",
        "    sentences.append(corpus[x][0])\n",
        "    labels.append(corpus[x][1])\n",
        "\n",
        "\n",
        "tokenizer = Tokenizer()\n",
        "tokenizer.fit_on_texts(sentences)\n",
        "\n",
        "word_index = tokenizer.word_index\n",
        "vocab_size=len(word_index)\n",
        "\n",
        "sequences = tokenizer.texts_to_sequences(sentences)\n",
        "padded = pad_sequences(sequences, maxlen=max_length, padding=padding_type, truncating=trunc_type)\n",
        "\n",
        "split = int(test_portion * training_size)\n",
        "\n",
        "test_sequences = padded[0:split]\n",
        "training_sequences = padded[split:training_size]\n",
        "test_labels = labels[0:split]\n",
        "training_labels = labels[split:training_size]"
      ],
      "execution_count": 0,
      "outputs": []
    },
    {
      "cell_type": "code",
      "metadata": {
        "colab_type": "code",
        "id": "gIrtRem1En3N",
        "outputId": "84b16abc-a81d-41f0-e00a-fe35817df152",
        "colab": {
          "base_uri": "https://localhost:8080/",
          "height": 50
        }
      },
      "source": [
        "print(vocab_size)\n",
        "print(word_index['i'])\n",
        "# Expected Output\n",
        "# 138858\n",
        "# 1"
      ],
      "execution_count": 5,
      "outputs": [
        {
          "output_type": "stream",
          "text": [
            "138741\n",
            "1\n"
          ],
          "name": "stdout"
        }
      ]
    },
    {
      "cell_type": "code",
      "metadata": {
        "colab_type": "code",
        "id": "C1zdgJkusRh0",
        "outputId": "bc1fde81-603c-40e9-9013-4a3cfb2a5e1f",
        "colab": {
          "base_uri": "https://localhost:8080/",
          "height": 201
        }
      },
      "source": [
        "# Note this is the 100 dimension version of GloVe from Stanford\n",
        "# I unzipped and hosted it on my site to make this notebook easier\n",
        "!wget --no-check-certificate \\\n",
        "    https://storage.googleapis.com/laurencemoroney-blog.appspot.com/glove.6B.100d.txt \\\n",
        "    -O /tmp/glove.6B.100d.txt\n",
        "embeddings_index = {};\n",
        "with open('/tmp/glove.6B.100d.txt') as f:\n",
        "    for line in f:\n",
        "        values = line.split();\n",
        "        word = values[0];\n",
        "        coefs = np.asarray(values[1:], dtype='float32');\n",
        "        embeddings_index[word] = coefs;\n",
        "\n",
        "embeddings_matrix = np.zeros((vocab_size+1, embedding_dim));\n",
        "for word, i in word_index.items():\n",
        "    embedding_vector = embeddings_index.get(word);\n",
        "    if embedding_vector is not None:\n",
        "        embeddings_matrix[i] = embedding_vector;"
      ],
      "execution_count": 6,
      "outputs": [
        {
          "output_type": "stream",
          "text": [
            "--2020-04-29 19:35:03--  https://storage.googleapis.com/laurencemoroney-blog.appspot.com/glove.6B.100d.txt\n",
            "Resolving storage.googleapis.com (storage.googleapis.com)... 172.217.194.128, 2404:6800:4003:c00::80\n",
            "Connecting to storage.googleapis.com (storage.googleapis.com)|172.217.194.128|:443... connected.\n",
            "HTTP request sent, awaiting response... 200 OK\n",
            "Length: 347116733 (331M) [text/plain]\n",
            "Saving to: ‘/tmp/glove.6B.100d.txt’\n",
            "\n",
            "/tmp/glove.6B.100d. 100%[===================>] 331.04M  62.1MB/s    in 5.3s    \n",
            "\n",
            "2020-04-29 19:35:09 (62.1 MB/s) - ‘/tmp/glove.6B.100d.txt’ saved [347116733/347116733]\n",
            "\n"
          ],
          "name": "stdout"
        }
      ]
    },
    {
      "cell_type": "code",
      "metadata": {
        "colab_type": "code",
        "id": "iKKvbuEBOGFz",
        "colab": {
          "base_uri": "https://localhost:8080/",
          "height": 1000
        },
        "outputId": "71ca6eb4-da33-4816-de45-4197e4f191c4"
      },
      "source": [
        "model = tf.keras.Sequential([\n",
        "    tf.keras.layers.Embedding(vocab_size+1, embedding_dim, input_length=max_length, weights=[embeddings_matrix], trainable=False),\n",
        "    tf.keras.layers.Dropout(0.2),\n",
        "    tf.keras.layers.Conv1D(64, 5, activation='relu'),\n",
        "    tf.keras.layers.MaxPooling1D(pool_size=4),\n",
        "    tf.keras.layers.LSTM(64),\n",
        "    tf.keras.layers.Dense(1, activation='sigmoid')\n",
        "])\n",
        "model.compile(loss='binary_crossentropy',optimizer='adam',metrics=['accuracy'])\n",
        "model.summary()\n",
        "\n",
        "num_epochs = 50\n",
        "history = model.fit(np.array(training_sequences), np.array(training_labels), epochs=num_epochs, validation_data=(np.array(test_sequences), np.array(test_labels)), verbose=2)\n",
        "\n",
        "print(\"Training Complete\")\n"
      ],
      "execution_count": 9,
      "outputs": [
        {
          "output_type": "stream",
          "text": [
            "Model: \"sequential_2\"\n",
            "_________________________________________________________________\n",
            "Layer (type)                 Output Shape              Param #   \n",
            "=================================================================\n",
            "embedding_2 (Embedding)      (None, 16, 100)           13874200  \n",
            "_________________________________________________________________\n",
            "dropout_2 (Dropout)          (None, 16, 100)           0         \n",
            "_________________________________________________________________\n",
            "conv1d_2 (Conv1D)            (None, 12, 64)            32064     \n",
            "_________________________________________________________________\n",
            "max_pooling1d_2 (MaxPooling1 (None, 3, 64)             0         \n",
            "_________________________________________________________________\n",
            "lstm_2 (LSTM)                (None, 64)                33024     \n",
            "_________________________________________________________________\n",
            "dense_2 (Dense)              (None, 1)                 65        \n",
            "=================================================================\n",
            "Total params: 13,939,353\n",
            "Trainable params: 65,153\n",
            "Non-trainable params: 13,874,200\n",
            "_________________________________________________________________\n",
            "Epoch 1/50\n",
            "4500/4500 - 16s - loss: 0.5675 - accuracy: 0.6980 - val_loss: 0.5289 - val_accuracy: 0.7296\n",
            "Epoch 2/50\n",
            "4500/4500 - 15s - loss: 0.5279 - accuracy: 0.7299 - val_loss: 0.5158 - val_accuracy: 0.7410\n",
            "Epoch 3/50\n",
            "4500/4500 - 15s - loss: 0.5116 - accuracy: 0.7436 - val_loss: 0.5116 - val_accuracy: 0.7457\n",
            "Epoch 4/50\n",
            "4500/4500 - 15s - loss: 0.5001 - accuracy: 0.7516 - val_loss: 0.5096 - val_accuracy: 0.7477\n",
            "Epoch 5/50\n",
            "4500/4500 - 15s - loss: 0.4911 - accuracy: 0.7572 - val_loss: 0.5078 - val_accuracy: 0.7464\n",
            "Epoch 6/50\n",
            "4500/4500 - 15s - loss: 0.4842 - accuracy: 0.7618 - val_loss: 0.5045 - val_accuracy: 0.7513\n",
            "Epoch 7/50\n",
            "4500/4500 - 15s - loss: 0.4783 - accuracy: 0.7649 - val_loss: 0.5039 - val_accuracy: 0.7505\n",
            "Epoch 8/50\n",
            "4500/4500 - 15s - loss: 0.4738 - accuracy: 0.7678 - val_loss: 0.5033 - val_accuracy: 0.7515\n",
            "Epoch 9/50\n",
            "4500/4500 - 15s - loss: 0.4684 - accuracy: 0.7716 - val_loss: 0.5096 - val_accuracy: 0.7514\n",
            "Epoch 10/50\n",
            "4500/4500 - 15s - loss: 0.4655 - accuracy: 0.7736 - val_loss: 0.5032 - val_accuracy: 0.7527\n",
            "Epoch 11/50\n",
            "4500/4500 - 15s - loss: 0.4617 - accuracy: 0.7762 - val_loss: 0.5054 - val_accuracy: 0.7511\n",
            "Epoch 12/50\n",
            "4500/4500 - 15s - loss: 0.4579 - accuracy: 0.7779 - val_loss: 0.5089 - val_accuracy: 0.7501\n",
            "Epoch 13/50\n",
            "4500/4500 - 15s - loss: 0.4569 - accuracy: 0.7778 - val_loss: 0.5114 - val_accuracy: 0.7506\n",
            "Epoch 14/50\n",
            "4500/4500 - 15s - loss: 0.4537 - accuracy: 0.7801 - val_loss: 0.5098 - val_accuracy: 0.7496\n",
            "Epoch 15/50\n",
            "4500/4500 - 15s - loss: 0.4516 - accuracy: 0.7817 - val_loss: 0.5104 - val_accuracy: 0.7532\n",
            "Epoch 16/50\n",
            "4500/4500 - 15s - loss: 0.4503 - accuracy: 0.7827 - val_loss: 0.5147 - val_accuracy: 0.7507\n",
            "Epoch 17/50\n",
            "4500/4500 - 15s - loss: 0.4481 - accuracy: 0.7839 - val_loss: 0.5124 - val_accuracy: 0.7479\n",
            "Epoch 18/50\n",
            "4500/4500 - 15s - loss: 0.4450 - accuracy: 0.7855 - val_loss: 0.5167 - val_accuracy: 0.7501\n",
            "Epoch 19/50\n",
            "4500/4500 - 15s - loss: 0.4460 - accuracy: 0.7847 - val_loss: 0.5149 - val_accuracy: 0.7481\n",
            "Epoch 20/50\n",
            "4500/4500 - 15s - loss: 0.4440 - accuracy: 0.7871 - val_loss: 0.5153 - val_accuracy: 0.7508\n",
            "Epoch 21/50\n",
            "4500/4500 - 15s - loss: 0.4423 - accuracy: 0.7872 - val_loss: 0.5198 - val_accuracy: 0.7460\n",
            "Epoch 22/50\n",
            "4500/4500 - 16s - loss: 0.4425 - accuracy: 0.7870 - val_loss: 0.5163 - val_accuracy: 0.7502\n",
            "Epoch 23/50\n",
            "4500/4500 - 15s - loss: 0.4402 - accuracy: 0.7885 - val_loss: 0.5129 - val_accuracy: 0.7517\n",
            "Epoch 24/50\n",
            "4500/4500 - 15s - loss: 0.4391 - accuracy: 0.7886 - val_loss: 0.5168 - val_accuracy: 0.7489\n",
            "Epoch 25/50\n",
            "4500/4500 - 15s - loss: 0.4393 - accuracy: 0.7899 - val_loss: 0.5127 - val_accuracy: 0.7477\n",
            "Epoch 26/50\n",
            "4500/4500 - 15s - loss: 0.4378 - accuracy: 0.7907 - val_loss: 0.5195 - val_accuracy: 0.7470\n",
            "Epoch 27/50\n",
            "4500/4500 - 15s - loss: 0.4374 - accuracy: 0.7910 - val_loss: 0.5167 - val_accuracy: 0.7509\n",
            "Epoch 28/50\n",
            "4500/4500 - 15s - loss: 0.4355 - accuracy: 0.7920 - val_loss: 0.5194 - val_accuracy: 0.7494\n",
            "Epoch 29/50\n",
            "4500/4500 - 15s - loss: 0.4349 - accuracy: 0.7914 - val_loss: 0.5188 - val_accuracy: 0.7494\n",
            "Epoch 30/50\n",
            "4500/4500 - 15s - loss: 0.4356 - accuracy: 0.7907 - val_loss: 0.5204 - val_accuracy: 0.7483\n",
            "Epoch 31/50\n",
            "4500/4500 - 15s - loss: 0.4331 - accuracy: 0.7941 - val_loss: 0.5209 - val_accuracy: 0.7524\n",
            "Epoch 32/50\n",
            "4500/4500 - 15s - loss: 0.4336 - accuracy: 0.7930 - val_loss: 0.5165 - val_accuracy: 0.7484\n",
            "Epoch 33/50\n",
            "4500/4500 - 16s - loss: 0.4323 - accuracy: 0.7937 - val_loss: 0.5242 - val_accuracy: 0.7471\n",
            "Epoch 34/50\n",
            "4500/4500 - 15s - loss: 0.4337 - accuracy: 0.7921 - val_loss: 0.5225 - val_accuracy: 0.7492\n",
            "Epoch 35/50\n",
            "4500/4500 - 15s - loss: 0.4326 - accuracy: 0.7930 - val_loss: 0.5203 - val_accuracy: 0.7477\n",
            "Epoch 36/50\n",
            "4500/4500 - 15s - loss: 0.4320 - accuracy: 0.7943 - val_loss: 0.5246 - val_accuracy: 0.7467\n",
            "Epoch 37/50\n",
            "4500/4500 - 15s - loss: 0.4312 - accuracy: 0.7938 - val_loss: 0.5233 - val_accuracy: 0.7488\n",
            "Epoch 38/50\n",
            "4500/4500 - 15s - loss: 0.4318 - accuracy: 0.7939 - val_loss: 0.5217 - val_accuracy: 0.7473\n",
            "Epoch 39/50\n",
            "4500/4500 - 15s - loss: 0.4316 - accuracy: 0.7942 - val_loss: 0.5207 - val_accuracy: 0.7483\n",
            "Epoch 40/50\n",
            "4500/4500 - 15s - loss: 0.4302 - accuracy: 0.7952 - val_loss: 0.5227 - val_accuracy: 0.7443\n",
            "Epoch 41/50\n",
            "4500/4500 - 15s - loss: 0.4308 - accuracy: 0.7935 - val_loss: 0.5211 - val_accuracy: 0.7494\n",
            "Epoch 42/50\n",
            "4500/4500 - 15s - loss: 0.4283 - accuracy: 0.7946 - val_loss: 0.5284 - val_accuracy: 0.7473\n",
            "Epoch 43/50\n",
            "4500/4500 - 15s - loss: 0.4289 - accuracy: 0.7951 - val_loss: 0.5256 - val_accuracy: 0.7464\n",
            "Epoch 44/50\n",
            "4500/4500 - 15s - loss: 0.4273 - accuracy: 0.7954 - val_loss: 0.5239 - val_accuracy: 0.7464\n",
            "Epoch 45/50\n",
            "4500/4500 - 15s - loss: 0.4286 - accuracy: 0.7954 - val_loss: 0.5269 - val_accuracy: 0.7473\n",
            "Epoch 46/50\n",
            "4500/4500 - 15s - loss: 0.4288 - accuracy: 0.7956 - val_loss: 0.5306 - val_accuracy: 0.7462\n",
            "Epoch 47/50\n",
            "4500/4500 - 15s - loss: 0.4273 - accuracy: 0.7973 - val_loss: 0.5247 - val_accuracy: 0.7434\n",
            "Epoch 48/50\n",
            "4500/4500 - 15s - loss: 0.4276 - accuracy: 0.7962 - val_loss: 0.5286 - val_accuracy: 0.7479\n",
            "Epoch 49/50\n",
            "4500/4500 - 15s - loss: 0.4269 - accuracy: 0.7973 - val_loss: 0.5309 - val_accuracy: 0.7443\n",
            "Epoch 50/50\n",
            "4500/4500 - 15s - loss: 0.4272 - accuracy: 0.7958 - val_loss: 0.5266 - val_accuracy: 0.7454\n",
            "Training Complete\n"
          ],
          "name": "stdout"
        }
      ]
    },
    {
      "cell_type": "code",
      "metadata": {
        "colab_type": "code",
        "id": "qxju4ItJKO8F",
        "colab": {
          "base_uri": "https://localhost:8080/",
          "height": 606
        },
        "outputId": "f028bf24-f154-4aac-c1c0-1c3542d9e5d7"
      },
      "source": [
        "import matplotlib.image  as mpimg\n",
        "import matplotlib.pyplot as plt\n",
        "\n",
        "#-----------------------------------------------------------\n",
        "# Retrieve a list of list results on training and test data\n",
        "# sets for each training epoch\n",
        "#-----------------------------------------------------------\n",
        "acc=history.history['accuracy']\n",
        "val_acc=history.history['val_accuracy']\n",
        "loss=history.history['loss']\n",
        "val_loss=history.history['val_loss']\n",
        "\n",
        "epochs=range(len(acc)) # Get number of epochs\n",
        "\n",
        "#------------------------------------------------\n",
        "# Plot training and validation accuracy per epoch\n",
        "#------------------------------------------------\n",
        "plt.plot(epochs, acc, 'r')\n",
        "plt.plot(epochs, val_acc, 'b')\n",
        "plt.title('Training and validation accuracy')\n",
        "plt.xlabel(\"Epochs\")\n",
        "plt.ylabel(\"Accuracy\")\n",
        "plt.legend([\"Accuracy\", \"Validation Accuracy\"])\n",
        "\n",
        "plt.figure()\n",
        "\n",
        "#------------------------------------------------\n",
        "# Plot training and validation loss per epoch\n",
        "#------------------------------------------------\n",
        "plt.plot(epochs, loss, 'r')\n",
        "plt.plot(epochs, val_loss, 'b')\n",
        "plt.title('Training and validation loss')\n",
        "plt.xlabel(\"Epochs\")\n",
        "plt.ylabel(\"Loss\")\n",
        "plt.legend([\"Loss\", \"Validation Loss\"])\n",
        "\n",
        "plt.figure()\n",
        "\n",
        "\n",
        "# Expected Output\n",
        "# A chart where the validation loss does not increase sharply!"
      ],
      "execution_count": 10,
      "outputs": [
        {
          "output_type": "execute_result",
          "data": {
            "text/plain": [
              "<Figure size 432x288 with 0 Axes>"
            ]
          },
          "metadata": {
            "tags": []
          },
          "execution_count": 10
        },
        {
          "output_type": "display_data",
          "data": {
            "image/png": "[encoded data removed]",
            "text/plain": [
              "<Figure size 432x288 with 1 Axes>"
            ]
          },
          "metadata": {
            "tags": [],
            "needs_background": "light"
          }
        },
        {
          "output_type": "display_data",
          "data": {
            "image/png": "[encoded data removed]",
            "text/plain": [
              "<Figure size 432x288 with 1 Axes>"
            ]
          },
          "metadata": {
            "tags": [],
            "needs_background": "light"
          }
        },
        {
          "output_type": "display_data",
          "data": {
            "text/plain": [
              "<Figure size 432x288 with 0 Axes>"
            ]
          },
          "metadata": {
            "tags": []
          }
        }
      ]
    },
    {
      "cell_type": "code",
      "metadata": {
        "id": "wOvW8pnXdriB",
        "colab_type": "code",
        "colab": {}
      },
      "source": [
        ""
      ],
      "execution_count": 0,
      "outputs": []
    }
  ]
}